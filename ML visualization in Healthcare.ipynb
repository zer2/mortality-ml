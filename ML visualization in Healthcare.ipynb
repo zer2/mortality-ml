{
 "cells": [
  {
   "cell_type": "markdown",
   "id": "48070d91",
   "metadata": {},
   "source": [
    "# Improving statistical models w/ ML visualizations\n",
    "\n",
    "Machine learning models like XGBoost are incredibly powerful tools, but they are often too \"black box\" to use in production. It is unclear what value they have in such contexts. \n",
    "\n",
    "This notebook will demonstrate a procedure to take advantage of a sophisticated ML model without actually using it in production. The idea is to fit an ML model, look at its partial dependence plots, and use them as inspiration to improve feature engineering. This way we can discover and take advantage of complex feature-response relationships without deploying a black-box algorithm.\n",
    "\n",
    "We will be working in the field of healthcare, where interpretability is often essential. In particular, we will be predicting morbidity in the National Inpatient Sample from 2016, a very large data set of hospital visits. While this dataset is entirely anonymized with no personal identifiers, it is still not public for privacy reasons (see footnote)\n",
    "\n",
    "## 1. Making a model"
   ]
  },
  {
   "cell_type": "code",
   "execution_count": 88,
   "id": "2e272f40",
   "metadata": {},
   "outputs": [],
   "source": [
    "import matplotlib.pyplot as plt\n",
    "from sklearn.model_selection import RandomizedSearchCV, StratifiedKFold\n",
    "from scipy.stats import loguniform, uniform\n",
    "import xgboost\n",
    "import pandas as pd\n",
    "from hcuppy.elixhauser import ElixhauserEngine\n",
    "import re\n",
    "from sklearn.model_selection import train_test_split"
   ]
  },
  {
   "cell_type": "markdown",
   "id": "ec03ceba",
   "metadata": {},
   "source": [
    "Reading the data"
   ]
  },
  {
   "cell_type": "code",
   "execution_count": null,
   "id": "34edc64b",
   "metadata": {
    "scrolled": true
   },
   "outputs": [],
   "source": [
    "df = pd.read_csv('../NIS2016.csv')"
   ]
  },
  {
   "cell_type": "markdown",
   "id": "33b306e6",
   "metadata": {},
   "source": [
    "One of the most important properties of each patient in the NIS is their list of preexisting diagnoses. Each patient could have zero, one, or many diagnoses, so the diagnosis data is tricky to use as a feature\n",
    "\n",
    "We will summarize each patients' diagnosis list with the Elixhauser score, a weighting of various diagnoses designed to predict future morbidity. Fortunately, the python package hcuppy provides a function to calculate it for us. "
   ]
  },
  {
   "cell_type": "code",
   "execution_count": null,
   "id": "74cbccb8",
   "metadata": {},
   "outputs": [],
   "source": [
    "ee = ElixhauserEngine()\n",
    "\n",
    "diagnosis_cols = [z for z in df.columns if 'I10_DX' in z]\n",
    "df[diagnosis_cols] = df[diagnosis_cols].fillna('NO_DX') #N/As will break regex expressions\n",
    "all_columns = diagnosis_cols + ['AGE','DIED','APRDRG_Severity','DRG','FEMALE','RACE','ZIPINC_QRTL']\n",
    "df = df[all_columns]\n",
    "\n",
    "df.loc[:,'CMB_INDEX'] = [ee.get_elixhauser(list(row[diagnosis_cols].values))['mrtlt_scr'] for index, row in df.iterrows()]\n",
    "df = df.drop(columns = diagnosis_cols)"
   ]
  },
  {
   "cell_type": "code",
   "execution_count": 9,
   "id": "a720d34b",
   "metadata": {},
   "outputs": [],
   "source": [
    "df['RACE'] = df['RACE'].fillna(7)\n",
    "categoricals = ['RACE','APRDRG_Severity','DRG','ZIPINC_QRTL']\n",
    "df[categoricals] = df[categoricals].astype('category')"
   ]
  },
  {
   "cell_type": "code",
   "execution_count": 159,
   "id": "ceabb96b",
   "metadata": {},
   "outputs": [
    {
     "data": {
      "text/plain": [
       "(7072872, 9)"
      ]
     },
     "execution_count": 159,
     "metadata": {},
     "output_type": "execute_result"
    }
   ],
   "source": [
    "df.shape"
   ]
  },
  {
   "cell_type": "markdown",
   "id": "ac01831e",
   "metadata": {},
   "source": [
    "Now that we done a first-pass at data engineering, we are ready to fit a machine learning model. \n",
    "\n",
    "We will withhold a test set, so that we can evaluate accuracy without bias later. Our dataset has more than 7 million rows, with only 9 features, so we can safely withhold only a small slice of the data for the test set. \n",
    "\n",
    "Our ML model will be a cross-validated XGBoost machine. Since the dataset is so large, training this will be computationally expensive. We will use a randomized search with mostly loguniform parameter distributions, to sample as broad of a selection of possible parameters as we can with our limited computational power. "
   ]
  },
  {
   "cell_type": "code",
   "execution_count": null,
   "id": "52ece9f3",
   "metadata": {},
   "outputs": [],
   "source": [
    "training_set = df.dropna()[['AGE','DIED','FEMALE','RACE','ZIPINC_QRTL','CMB_INDEX']]\n",
    "training_set = pd.get_dummies(training_set, drop_first = True)\n",
    "X = training_set.drop(columns = 'DIED')\n",
    "y = training_set['DIED']\n",
    "\n",
    "X_train, X_holdout, y_train,y_holdout = train_test_split(X,y, test_size = 0.05)\n",
    "\n",
    "xgb = xgboost.XGBClassifier()\n",
    "\n",
    "param_dist = {'min_child_weight': loguniform(1e-4, 1e2)\n",
    "              ,'gamma': loguniform(1e-4, 1e1)\n",
    "              ,'sumbsample': loguniform(1e-4, 1e0)\n",
    "              ,'colsample_bytree': uniform(0,1)\n",
    "              ,'max_depth': [1,2,3, 4, 5,6,7,8,9,10]}\n",
    "\n",
    "skf = StratifiedKFold(n_splits=4, shuffle = True, random_state = 0\n",
    "                     )\n",
    "\n",
    "n_iter_search = 10\n",
    "random_search = RandomizedSearchCV(xgb, param_distributions=param_dist,\n",
    "                                   cv = skf, #ZR: for next time \n",
    "                                   n_iter=n_iter_search)\n",
    "final_xgb_model = random_search.fit(X_train, y_train)"
   ]
  },
  {
   "cell_type": "markdown",
   "id": "8c73e3d7",
   "metadata": {},
   "source": [
    "## 2. Feature importance"
   ]
  },
  {
   "cell_type": "markdown",
   "id": "4af22cce",
   "metadata": {},
   "source": [
    "Now that we have a model, we can take a look at what it is doing under the hood. To start, we will look at feature importance. Our metric of choice will be gain, because it is not biased against categorical variables in the same way that cover is"
   ]
  },
  {
   "cell_type": "code",
   "execution_count": 100,
   "id": "58b12275",
   "metadata": {},
   "outputs": [],
   "source": [
    "gain_importances = final_xgb_model.best_estimator_.get_booster().get_score(importance_type='gain')"
   ]
  },
  {
   "cell_type": "code",
   "execution_count": 101,
   "id": "8f9460f8",
   "metadata": {},
   "outputs": [
    {
     "data": {
      "text/plain": [
       "<BarContainer object of 12 artists>"
      ]
     },
     "execution_count": 101,
     "metadata": {},
     "output_type": "execute_result"
    },
    {
     "data": {
      "image/png": "[encoded data removed]",
      "text/plain": [
       "<Figure size 432x288 with 1 Axes>"
      ]
     },
     "metadata": {},
     "output_type": "display_data"
    }
   ],
   "source": [
    "plt.style.use('ggplot')\n",
    "\n",
    "plt.barh([k for k,v in gain_importances.items()], [v for k,v in gain_importances.items()])"
   ]
  },
  {
   "cell_type": "markdown",
   "id": "5fc63ee4",
   "metadata": {},
   "source": [
    "Descriptions of the NIS features can be found [here](https://www.hcup-us.ahrq.gov/db/nation/nis/nisdde.jsp)\n",
    "\n",
    "Unsurprisingly, the comorbidity index we calculated is by far the most important predictor. Age also has a significant effect. Every other feature, with the arguable exception of gender, is relatively unimportant in this context\n",
    "\n",
    "Note that the ZIP income quartile features may not adequately proxy true income. Many zip codes have income disparities, introducing significant noise. \n",
    "\n",
    "We can also peruse the trees created by xgboost, to get a better sense of how the features are being used"
   ]
  },
  {
   "cell_type": "code",
   "execution_count": 104,
   "id": "4a5bdcd8",
   "metadata": {},
   "outputs": [
    {
     "data": {
      "image/svg+xml": [
       "<?xml version=\"1.0\" encoding=\"UTF-8\" standalone=\"no\"?>\r\n",
       "<!DOCTYPE svg PUBLIC \"-//W3C//DTD SVG 1.1//EN\"\r\n",
       " \"http://www.w3.org/Graphics/SVG/1.1/DTD/svg11.dtd\">\r\n",
       "<!-- Generated by graphviz version 2.46.0 (20210118.1747)\r\n",
       " -->\r\n",
       "<!-- Pages: 1 -->\r\n",
       "<svg width=\"2459pt\" height=\"392pt\"\r\n",
       " viewBox=\"0.00 0.00 2458.99 392.00\" xmlns=\"http://www.w3.org/2000/svg\" xmlns:xlink=\"http://www.w3.org/1999/xlink\">\r\n",
       "<g id=\"graph0\" class=\"graph\" transform=\"scale(1 1) rotate(0) translate(4 388)\">\r\n",
       "<polygon fill=\"white\" stroke=\"transparent\" points=\"-4,4 -4,-388 2454.99,-388 2454.99,4 -4,4\"/>\r\n",
       "<!-- 0 -->\r\n",
       "<g id=\"node1\" class=\"node\">\r\n",
       "<title>0</title>\r\n",
       "<ellipse fill=\"none\" stroke=\"black\" cx=\"917.99\" cy=\"-366\" rx=\"110.48\" ry=\"18\"/>\r\n",
       "<text text-anchor=\"middle\" x=\"917.99\" y=\"-362.3\" font-family=\"Times New Roman,serif\" font-size=\"14.00\">CMB_INDEX&lt;17.9999981</text>\r\n",
       "</g>\r\n",
       "<!-- 1 -->\r\n",
       "<g id=\"node2\" class=\"node\">\r\n",
       "<title>1</title>\r\n",
       "<ellipse fill=\"none\" stroke=\"black\" cx=\"719.99\" cy=\"-279\" rx=\"110.48\" ry=\"18\"/>\r\n",
       "<text text-anchor=\"middle\" x=\"719.99\" y=\"-275.3\" font-family=\"Times New Roman,serif\" font-size=\"14.00\">CMB_INDEX&lt;3.99999905</text>\r\n",
       "</g>\r\n",
       "<!-- 0&#45;&gt;1 -->\r\n",
       "<g id=\"edge1\" class=\"edge\">\r\n",
       "<title>0&#45;&gt;1</title>\r\n",
       "<path fill=\"none\" stroke=\"#ff0000\" d=\"M880.75,-349.01C848.5,-335.17 801.68,-315.07 766.88,-300.13\"/>\r\n",
       "<polygon fill=\"#ff0000\" stroke=\"#ff0000\" points=\"767.97,-296.79 757.4,-296.06 765.21,-303.22 767.97,-296.79\"/>\r\n",
       "<text text-anchor=\"middle\" x=\"840.49\" y=\"-318.8\" font-family=\"Times New Roman,serif\" font-size=\"14.00\">yes</text>\r\n",
       "</g>\r\n",
       "<!-- 2 -->\r\n",
       "<g id=\"node3\" class=\"node\">\r\n",
       "<title>2</title>\r\n",
       "<ellipse fill=\"none\" stroke=\"black\" cx=\"1400.99\" cy=\"-279\" rx=\"110.48\" ry=\"18\"/>\r\n",
       "<text text-anchor=\"middle\" x=\"1400.99\" y=\"-275.3\" font-family=\"Times New Roman,serif\" font-size=\"14.00\">CMB_INDEX&lt;30.9999981</text>\r\n",
       "</g>\r\n",
       "<!-- 0&#45;&gt;2 -->\r\n",
       "<g id=\"edge2\" class=\"edge\">\r\n",
       "<title>0&#45;&gt;2</title>\r\n",
       "<path fill=\"none\" stroke=\"#0000ff\" d=\"M990.04,-352.32C1078.09,-336.83 1226.71,-310.67 1319.03,-294.42\"/>\r\n",
       "<polygon fill=\"#0000ff\" stroke=\"#0000ff\" points=\"1319.65,-297.87 1328.89,-292.69 1318.44,-290.97 1319.65,-297.87\"/>\r\n",
       "<text text-anchor=\"middle\" x=\"1220.99\" y=\"-318.8\" font-family=\"Times New Roman,serif\" font-size=\"14.00\">no, missing</text>\r\n",
       "</g>\r\n",
       "<!-- 3 -->\r\n",
       "<g id=\"node4\" class=\"node\">\r\n",
       "<title>3</title>\r\n",
       "<ellipse fill=\"none\" stroke=\"black\" cx=\"426.99\" cy=\"-192\" rx=\"114.28\" ry=\"18\"/>\r\n",
       "<text text-anchor=\"middle\" x=\"426.99\" y=\"-188.3\" font-family=\"Times New Roman,serif\" font-size=\"14.00\">CMB_INDEX&lt;0.999998987</text>\r\n",
       "</g>\r\n",
       "<!-- 1&#45;&gt;3 -->\r\n",
       "<g id=\"edge3\" class=\"edge\">\r\n",
       "<title>1&#45;&gt;3</title>\r\n",
       "<path fill=\"none\" stroke=\"#ff0000\" d=\"M668.29,-263C618.18,-248.46 542.14,-226.4 488.84,-210.94\"/>\r\n",
       "<polygon fill=\"#ff0000\" stroke=\"#ff0000\" points=\"489.75,-207.56 479.17,-208.14 487.8,-214.28 489.75,-207.56\"/>\r\n",
       "<text text-anchor=\"middle\" x=\"601.49\" y=\"-231.8\" font-family=\"Times New Roman,serif\" font-size=\"14.00\">yes</text>\r\n",
       "</g>\r\n",
       "<!-- 4 -->\r\n",
       "<g id=\"node5\" class=\"node\">\r\n",
       "<title>4</title>\r\n",
       "<ellipse fill=\"none\" stroke=\"black\" cx=\"719.99\" cy=\"-192\" rx=\"105.88\" ry=\"18\"/>\r\n",
       "<text text-anchor=\"middle\" x=\"719.99\" y=\"-188.3\" font-family=\"Times New Roman,serif\" font-size=\"14.00\">CMB_INDEX&lt;11.999999</text>\r\n",
       "</g>\r\n",
       "<!-- 1&#45;&gt;4 -->\r\n",
       "<g id=\"edge4\" class=\"edge\">\r\n",
       "<title>1&#45;&gt;4</title>\r\n",
       "<path fill=\"none\" stroke=\"#0000ff\" d=\"M719.99,-260.8C719.99,-249.16 719.99,-233.55 719.99,-220.24\"/>\r\n",
       "<polygon fill=\"#0000ff\" stroke=\"#0000ff\" points=\"723.49,-220.18 719.99,-210.18 716.49,-220.18 723.49,-220.18\"/>\r\n",
       "<text text-anchor=\"middle\" x=\"751.99\" y=\"-231.8\" font-family=\"Times New Roman,serif\" font-size=\"14.00\">no, missing</text>\r\n",
       "</g>\r\n",
       "<!-- 5 -->\r\n",
       "<g id=\"node16\" class=\"node\">\r\n",
       "<title>5</title>\r\n",
       "<ellipse fill=\"none\" stroke=\"black\" cx=\"1400.99\" cy=\"-192\" rx=\"110.48\" ry=\"18\"/>\r\n",
       "<text text-anchor=\"middle\" x=\"1400.99\" y=\"-188.3\" font-family=\"Times New Roman,serif\" font-size=\"14.00\">CMB_INDEX&lt;23.9999981</text>\r\n",
       "</g>\r\n",
       "<!-- 2&#45;&gt;5 -->\r\n",
       "<g id=\"edge15\" class=\"edge\">\r\n",
       "<title>2&#45;&gt;5</title>\r\n",
       "<path fill=\"none\" stroke=\"#ff0000\" d=\"M1400.99,-260.8C1400.99,-249.16 1400.99,-233.55 1400.99,-220.24\"/>\r\n",
       "<polygon fill=\"#ff0000\" stroke=\"#ff0000\" points=\"1404.49,-220.18 1400.99,-210.18 1397.49,-220.18 1404.49,-220.18\"/>\r\n",
       "<text text-anchor=\"middle\" x=\"1410.49\" y=\"-231.8\" font-family=\"Times New Roman,serif\" font-size=\"14.00\">yes</text>\r\n",
       "</g>\r\n",
       "<!-- 6 -->\r\n",
       "<g id=\"node17\" class=\"node\">\r\n",
       "<title>6</title>\r\n",
       "<ellipse fill=\"none\" stroke=\"black\" cx=\"1912.99\" cy=\"-192\" rx=\"77.19\" ry=\"18\"/>\r\n",
       "<text text-anchor=\"middle\" x=\"1912.99\" y=\"-188.3\" font-family=\"Times New Roman,serif\" font-size=\"14.00\">CMB_INDEX&lt;35</text>\r\n",
       "</g>\r\n",
       "<!-- 2&#45;&gt;6 -->\r\n",
       "<g id=\"edge16\" class=\"edge\">\r\n",
       "<title>2&#45;&gt;6</title>\r\n",
       "<path fill=\"none\" stroke=\"#0000ff\" d=\"M1475.44,-265.64C1573.75,-249.32 1745.65,-220.78 1842.13,-204.76\"/>\r\n",
       "<polygon fill=\"#0000ff\" stroke=\"#0000ff\" points=\"1842.79,-208.2 1852.08,-203.11 1841.64,-201.3 1842.79,-208.2\"/>\r\n",
       "<text text-anchor=\"middle\" x=\"1719.99\" y=\"-231.8\" font-family=\"Times New Roman,serif\" font-size=\"14.00\">no, missing</text>\r\n",
       "</g>\r\n",
       "<!-- 7 -->\r\n",
       "<g id=\"node6\" class=\"node\">\r\n",
       "<title>7</title>\r\n",
       "<ellipse fill=\"none\" stroke=\"black\" cx=\"217.99\" cy=\"-105\" rx=\"113.18\" ry=\"18\"/>\r\n",
       "<text text-anchor=\"middle\" x=\"217.99\" y=\"-101.3\" font-family=\"Times New Roman,serif\" font-size=\"14.00\">CMB_INDEX&lt;&#45;4.00000095</text>\r\n",
       "</g>\r\n",
       "<!-- 3&#45;&gt;7 -->\r\n",
       "<g id=\"edge5\" class=\"edge\">\r\n",
       "<title>3&#45;&gt;7</title>\r\n",
       "<path fill=\"none\" stroke=\"#ff0000\" d=\"M387.68,-175.01C353.38,-161.06 303.48,-140.77 266.66,-125.79\"/>\r\n",
       "<polygon fill=\"#ff0000\" stroke=\"#ff0000\" points=\"267.71,-122.44 257.13,-121.92 265.07,-128.93 267.71,-122.44\"/>\r\n",
       "<text text-anchor=\"middle\" x=\"345.49\" y=\"-144.8\" font-family=\"Times New Roman,serif\" font-size=\"14.00\">yes</text>\r\n",
       "</g>\r\n",
       "<!-- 8 -->\r\n",
       "<g id=\"node7\" class=\"node\">\r\n",
       "<title>8</title>\r\n",
       "<ellipse fill=\"none\" stroke=\"black\" cx=\"426.99\" cy=\"-105\" rx=\"77.99\" ry=\"18\"/>\r\n",
       "<text text-anchor=\"middle\" x=\"426.99\" y=\"-101.3\" font-family=\"Times New Roman,serif\" font-size=\"14.00\">leaf=&#45;0.588390648</text>\r\n",
       "</g>\r\n",
       "<!-- 3&#45;&gt;8 -->\r\n",
       "<g id=\"edge6\" class=\"edge\">\r\n",
       "<title>3&#45;&gt;8</title>\r\n",
       "<path fill=\"none\" stroke=\"#0000ff\" d=\"M426.99,-173.8C426.99,-162.16 426.99,-146.55 426.99,-133.24\"/>\r\n",
       "<polygon fill=\"#0000ff\" stroke=\"#0000ff\" points=\"430.49,-133.18 426.99,-123.18 423.49,-133.18 430.49,-133.18\"/>\r\n",
       "<text text-anchor=\"middle\" x=\"458.99\" y=\"-144.8\" font-family=\"Times New Roman,serif\" font-size=\"14.00\">no, missing</text>\r\n",
       "</g>\r\n",
       "<!-- 9 -->\r\n",
       "<g id=\"node10\" class=\"node\">\r\n",
       "<title>9</title>\r\n",
       "<ellipse fill=\"none\" stroke=\"black\" cx=\"632.99\" cy=\"-105\" rx=\"110.48\" ry=\"18\"/>\r\n",
       "<text text-anchor=\"middle\" x=\"632.99\" y=\"-101.3\" font-family=\"Times New Roman,serif\" font-size=\"14.00\">CMB_INDEX&lt;7.99999905</text>\r\n",
       "</g>\r\n",
       "<!-- 4&#45;&gt;9 -->\r\n",
       "<g id=\"edge9\" class=\"edge\">\r\n",
       "<title>4&#45;&gt;9</title>\r\n",
       "<path fill=\"none\" stroke=\"#ff0000\" d=\"M702.8,-174.21C689.9,-161.6 672.05,-144.16 657.63,-130.07\"/>\r\n",
       "<polygon fill=\"#ff0000\" stroke=\"#ff0000\" points=\"660.04,-127.53 650.44,-123.05 655.15,-132.54 660.04,-127.53\"/>\r\n",
       "<text text-anchor=\"middle\" x=\"691.49\" y=\"-144.8\" font-family=\"Times New Roman,serif\" font-size=\"14.00\">yes</text>\r\n",
       "</g>\r\n",
       "<!-- 10 -->\r\n",
       "<g id=\"node11\" class=\"node\">\r\n",
       "<title>10</title>\r\n",
       "<ellipse fill=\"none\" stroke=\"black\" cx=\"866.99\" cy=\"-105\" rx=\"105.88\" ry=\"18\"/>\r\n",
       "<text text-anchor=\"middle\" x=\"866.99\" y=\"-101.3\" font-family=\"Times New Roman,serif\" font-size=\"14.00\">CMB_INDEX&lt;14.999999</text>\r\n",
       "</g>\r\n",
       "<!-- 4&#45;&gt;10 -->\r\n",
       "<g id=\"edge10\" class=\"edge\">\r\n",
       "<title>4&#45;&gt;10</title>\r\n",
       "<path fill=\"none\" stroke=\"#0000ff\" d=\"M748.34,-174.61C771.45,-161.25 804.28,-142.26 829.55,-127.65\"/>\r\n",
       "<polygon fill=\"#0000ff\" stroke=\"#0000ff\" points=\"831.58,-130.52 838.49,-122.48 828.08,-124.46 831.58,-130.52\"/>\r\n",
       "<text text-anchor=\"middle\" x=\"834.99\" y=\"-144.8\" font-family=\"Times New Roman,serif\" font-size=\"14.00\">no, missing</text>\r\n",
       "</g>\r\n",
       "<!-- 15 -->\r\n",
       "<g id=\"node8\" class=\"node\">\r\n",
       "<title>15</title>\r\n",
       "<ellipse fill=\"none\" stroke=\"black\" cx=\"77.99\" cy=\"-18\" rx=\"77.99\" ry=\"18\"/>\r\n",
       "<text text-anchor=\"middle\" x=\"77.99\" y=\"-14.3\" font-family=\"Times New Roman,serif\" font-size=\"14.00\">leaf=&#45;0.597891033</text>\r\n",
       "</g>\r\n",
       "<!-- 7&#45;&gt;15 -->\r\n",
       "<g id=\"edge7\" class=\"edge\">\r\n",
       "<title>7&#45;&gt;15</title>\r\n",
       "<path fill=\"none\" stroke=\"#ff0000\" d=\"M190.67,-87.41C168.51,-73.96 137.13,-54.91 113.11,-40.32\"/>\r\n",
       "<polygon fill=\"#ff0000\" stroke=\"#ff0000\" points=\"114.67,-37.17 104.3,-34.97 111.03,-43.15 114.67,-37.17\"/>\r\n",
       "<text text-anchor=\"middle\" x=\"166.49\" y=\"-57.8\" font-family=\"Times New Roman,serif\" font-size=\"14.00\">yes</text>\r\n",
       "</g>\r\n",
       "<!-- 16 -->\r\n",
       "<g id=\"node9\" class=\"node\">\r\n",
       "<title>16</title>\r\n",
       "<ellipse fill=\"none\" stroke=\"black\" cx=\"251.99\" cy=\"-18\" rx=\"77.99\" ry=\"18\"/>\r\n",
       "<text text-anchor=\"middle\" x=\"251.99\" y=\"-14.3\" font-family=\"Times New Roman,serif\" font-size=\"14.00\">leaf=&#45;0.595184207</text>\r\n",
       "</g>\r\n",
       "<!-- 7&#45;&gt;16 -->\r\n",
       "<g id=\"edge8\" class=\"edge\">\r\n",
       "<title>7&#45;&gt;16</title>\r\n",
       "<path fill=\"none\" stroke=\"#0000ff\" d=\"M224.87,-86.8C229.57,-75.05 235.9,-59.24 241.26,-45.84\"/>\r\n",
       "<polygon fill=\"#0000ff\" stroke=\"#0000ff\" points=\"244.66,-46.76 245.12,-36.18 238.16,-44.16 244.66,-46.76\"/>\r\n",
       "<text text-anchor=\"middle\" x=\"269.99\" y=\"-57.8\" font-family=\"Times New Roman,serif\" font-size=\"14.00\">no, missing</text>\r\n",
       "</g>\r\n",
       "<!-- 17 -->\r\n",
       "<g id=\"node12\" class=\"node\">\r\n",
       "<title>17</title>\r\n",
       "<ellipse fill=\"none\" stroke=\"black\" cx=\"458.99\" cy=\"-18\" rx=\"77.99\" ry=\"18\"/>\r\n",
       "<text text-anchor=\"middle\" x=\"458.99\" y=\"-14.3\" font-family=\"Times New Roman,serif\" font-size=\"14.00\">leaf=&#45;0.580244839</text>\r\n",
       "</g>\r\n",
       "<!-- 9&#45;&gt;17 -->\r\n",
       "<g id=\"edge11\" class=\"edge\">\r\n",
       "<title>9&#45;&gt;17</title>\r\n",
       "<path fill=\"none\" stroke=\"#ff0000\" d=\"M599.86,-87.81C571.44,-73.93 530.38,-53.88 499.92,-38.99\"/>\r\n",
       "<polygon fill=\"#ff0000\" stroke=\"#ff0000\" points=\"501.35,-35.8 490.83,-34.55 498.28,-42.09 501.35,-35.8\"/>\r\n",
       "<text text-anchor=\"middle\" x=\"566.49\" y=\"-57.8\" font-family=\"Times New Roman,serif\" font-size=\"14.00\">yes</text>\r\n",
       "</g>\r\n",
       "<!-- 18 -->\r\n",
       "<g id=\"node13\" class=\"node\">\r\n",
       "<title>18</title>\r\n",
       "<ellipse fill=\"none\" stroke=\"black\" cx=\"632.99\" cy=\"-18\" rx=\"77.99\" ry=\"18\"/>\r\n",
       "<text text-anchor=\"middle\" x=\"632.99\" y=\"-14.3\" font-family=\"Times New Roman,serif\" font-size=\"14.00\">leaf=&#45;0.573777914</text>\r\n",
       "</g>\r\n",
       "<!-- 9&#45;&gt;18 -->\r\n",
       "<g id=\"edge12\" class=\"edge\">\r\n",
       "<title>9&#45;&gt;18</title>\r\n",
       "<path fill=\"none\" stroke=\"#0000ff\" d=\"M632.99,-86.8C632.99,-75.16 632.99,-59.55 632.99,-46.24\"/>\r\n",
       "<polygon fill=\"#0000ff\" stroke=\"#0000ff\" points=\"636.49,-46.18 632.99,-36.18 629.49,-46.18 636.49,-46.18\"/>\r\n",
       "<text text-anchor=\"middle\" x=\"664.99\" y=\"-57.8\" font-family=\"Times New Roman,serif\" font-size=\"14.00\">no, missing</text>\r\n",
       "</g>\r\n",
       "<!-- 19 -->\r\n",
       "<g id=\"node14\" class=\"node\">\r\n",
       "<title>19</title>\r\n",
       "<ellipse fill=\"none\" stroke=\"black\" cx=\"806.99\" cy=\"-18\" rx=\"77.99\" ry=\"18\"/>\r\n",
       "<text text-anchor=\"middle\" x=\"806.99\" y=\"-14.3\" font-family=\"Times New Roman,serif\" font-size=\"14.00\">leaf=&#45;0.562430561</text>\r\n",
       "</g>\r\n",
       "<!-- 10&#45;&gt;19 -->\r\n",
       "<g id=\"edge13\" class=\"edge\">\r\n",
       "<title>10&#45;&gt;19</title>\r\n",
       "<path fill=\"none\" stroke=\"#ff0000\" d=\"M854.85,-86.8C846.26,-74.62 834.59,-58.09 824.92,-44.4\"/>\r\n",
       "<polygon fill=\"#ff0000\" stroke=\"#ff0000\" points=\"827.54,-42.04 818.91,-35.89 821.82,-46.07 827.54,-42.04\"/>\r\n",
       "<text text-anchor=\"middle\" x=\"850.49\" y=\"-57.8\" font-family=\"Times New Roman,serif\" font-size=\"14.00\">yes</text>\r\n",
       "</g>\r\n",
       "<!-- 20 -->\r\n",
       "<g id=\"node15\" class=\"node\">\r\n",
       "<title>20</title>\r\n",
       "<ellipse fill=\"none\" stroke=\"black\" cx=\"980.99\" cy=\"-18\" rx=\"77.99\" ry=\"18\"/>\r\n",
       "<text text-anchor=\"middle\" x=\"980.99\" y=\"-14.3\" font-family=\"Times New Roman,serif\" font-size=\"14.00\">leaf=&#45;0.550429285</text>\r\n",
       "</g>\r\n",
       "<!-- 10&#45;&gt;20 -->\r\n",
       "<g id=\"edge14\" class=\"edge\">\r\n",
       "<title>10&#45;&gt;20</title>\r\n",
       "<path fill=\"none\" stroke=\"#0000ff\" d=\"M889.52,-87.21C907.04,-74.14 931.52,-55.88 950.75,-41.55\"/>\r\n",
       "<polygon fill=\"#0000ff\" stroke=\"#0000ff\" points=\"952.98,-44.25 958.91,-35.47 948.8,-38.64 952.98,-44.25\"/>\r\n",
       "<text text-anchor=\"middle\" x=\"962.99\" y=\"-57.8\" font-family=\"Times New Roman,serif\" font-size=\"14.00\">no, missing</text>\r\n",
       "</g>\r\n",
       "<!-- 11 -->\r\n",
       "<g id=\"node18\" class=\"node\">\r\n",
       "<title>11</title>\r\n",
       "<ellipse fill=\"none\" stroke=\"black\" cx=\"1295.99\" cy=\"-105\" rx=\"110.48\" ry=\"18\"/>\r\n",
       "<text text-anchor=\"middle\" x=\"1295.99\" y=\"-101.3\" font-family=\"Times New Roman,serif\" font-size=\"14.00\">CMB_INDEX&lt;19.9999981</text>\r\n",
       "</g>\r\n",
       "<!-- 5&#45;&gt;11 -->\r\n",
       "<g id=\"edge17\" class=\"edge\">\r\n",
       "<title>5&#45;&gt;11</title>\r\n",
       "<path fill=\"none\" stroke=\"#ff0000\" d=\"M1380.25,-174.21C1364.43,-161.4 1342.45,-143.61 1324.9,-129.4\"/>\r\n",
       "<polygon fill=\"#ff0000\" stroke=\"#ff0000\" points=\"1326.67,-126.33 1316.69,-122.76 1322.26,-131.77 1326.67,-126.33\"/>\r\n",
       "<text text-anchor=\"middle\" x=\"1364.49\" y=\"-144.8\" font-family=\"Times New Roman,serif\" font-size=\"14.00\">yes</text>\r\n",
       "</g>\r\n",
       "<!-- 12 -->\r\n",
       "<g id=\"node19\" class=\"node\">\r\n",
       "<title>12</title>\r\n",
       "<ellipse fill=\"none\" stroke=\"black\" cx=\"1534.99\" cy=\"-105\" rx=\"110.48\" ry=\"18\"/>\r\n",
       "<text text-anchor=\"middle\" x=\"1534.99\" y=\"-101.3\" font-family=\"Times New Roman,serif\" font-size=\"14.00\">CMB_INDEX&lt;27.9999981</text>\r\n",
       "</g>\r\n",
       "<!-- 5&#45;&gt;12 -->\r\n",
       "<g id=\"edge18\" class=\"edge\">\r\n",
       "<title>5&#45;&gt;12</title>\r\n",
       "<path fill=\"none\" stroke=\"#0000ff\" d=\"M1427.15,-174.41C1447.99,-161.19 1477.37,-142.56 1500.19,-128.07\"/>\r\n",
       "<polygon fill=\"#0000ff\" stroke=\"#0000ff\" points=\"1502.33,-130.86 1508.9,-122.55 1498.59,-124.95 1502.33,-130.86\"/>\r\n",
       "<text text-anchor=\"middle\" x=\"1508.99\" y=\"-144.8\" font-family=\"Times New Roman,serif\" font-size=\"14.00\">no, missing</text>\r\n",
       "</g>\r\n",
       "<!-- 13 -->\r\n",
       "<g id=\"node24\" class=\"node\">\r\n",
       "<title>13</title>\r\n",
       "<ellipse fill=\"none\" stroke=\"black\" cx=\"1912.99\" cy=\"-105\" rx=\"102.88\" ry=\"18\"/>\r\n",
       "<text text-anchor=\"middle\" x=\"1912.99\" y=\"-101.3\" font-family=\"Times New Roman,serif\" font-size=\"14.00\">RACE_6.0&lt;0.999998987</text>\r\n",
       "</g>\r\n",
       "<!-- 6&#45;&gt;13 -->\r\n",
       "<g id=\"edge23\" class=\"edge\">\r\n",
       "<title>6&#45;&gt;13</title>\r\n",
       "<path fill=\"none\" stroke=\"#ff0000\" d=\"M1912.99,-173.8C1912.99,-162.16 1912.99,-146.55 1912.99,-133.24\"/>\r\n",
       "<polygon fill=\"#ff0000\" stroke=\"#ff0000\" points=\"1916.49,-133.18 1912.99,-123.18 1909.49,-133.18 1916.49,-133.18\"/>\r\n",
       "<text text-anchor=\"middle\" x=\"1922.49\" y=\"-144.8\" font-family=\"Times New Roman,serif\" font-size=\"14.00\">yes</text>\r\n",
       "</g>\r\n",
       "<!-- 14 -->\r\n",
       "<g id=\"node25\" class=\"node\">\r\n",
       "<title>14</title>\r\n",
       "<ellipse fill=\"none\" stroke=\"black\" cx=\"2198.99\" cy=\"-105\" rx=\"102.88\" ry=\"18\"/>\r\n",
       "<text text-anchor=\"middle\" x=\"2198.99\" y=\"-101.3\" font-family=\"Times New Roman,serif\" font-size=\"14.00\">RACE_7.0&lt;0.999998987</text>\r\n",
       "</g>\r\n",
       "<!-- 6&#45;&gt;14 -->\r\n",
       "<g id=\"edge24\" class=\"edge\">\r\n",
       "<title>6&#45;&gt;14</title>\r\n",
       "<path fill=\"none\" stroke=\"#0000ff\" d=\"M1958.63,-177.44C2007.62,-162.88 2085.65,-139.68 2139.45,-123.7\"/>\r\n",
       "<polygon fill=\"#0000ff\" stroke=\"#0000ff\" points=\"2140.61,-127 2149.2,-120.8 2138.61,-120.29 2140.61,-127\"/>\r\n",
       "<text text-anchor=\"middle\" x=\"2105.99\" y=\"-144.8\" font-family=\"Times New Roman,serif\" font-size=\"14.00\">no, missing</text>\r\n",
       "</g>\r\n",
       "<!-- 21 -->\r\n",
       "<g id=\"node20\" class=\"node\">\r\n",
       "<title>21</title>\r\n",
       "<ellipse fill=\"none\" stroke=\"black\" cx=\"1154.99\" cy=\"-18\" rx=\"77.99\" ry=\"18\"/>\r\n",
       "<text text-anchor=\"middle\" x=\"1154.99\" y=\"-14.3\" font-family=\"Times New Roman,serif\" font-size=\"14.00\">leaf=&#45;0.539218724</text>\r\n",
       "</g>\r\n",
       "<!-- 11&#45;&gt;21 -->\r\n",
       "<g id=\"edge19\" class=\"edge\">\r\n",
       "<title>11&#45;&gt;21</title>\r\n",
       "<path fill=\"none\" stroke=\"#ff0000\" d=\"M1268.47,-87.41C1246.16,-73.96 1214.55,-54.91 1190.36,-40.32\"/>\r\n",
       "<polygon fill=\"#ff0000\" stroke=\"#ff0000\" points=\"1191.86,-37.14 1181.49,-34.97 1188.25,-43.13 1191.86,-37.14\"/>\r\n",
       "<text text-anchor=\"middle\" x=\"1243.49\" y=\"-57.8\" font-family=\"Times New Roman,serif\" font-size=\"14.00\">yes</text>\r\n",
       "</g>\r\n",
       "<!-- 22 -->\r\n",
       "<g id=\"node21\" class=\"node\">\r\n",
       "<title>22</title>\r\n",
       "<ellipse fill=\"none\" stroke=\"black\" cx=\"1328.99\" cy=\"-18\" rx=\"77.99\" ry=\"18\"/>\r\n",
       "<text text-anchor=\"middle\" x=\"1328.99\" y=\"-14.3\" font-family=\"Times New Roman,serif\" font-size=\"14.00\">leaf=&#45;0.527644694</text>\r\n",
       "</g>\r\n",
       "<!-- 11&#45;&gt;22 -->\r\n",
       "<g id=\"edge20\" class=\"edge\">\r\n",
       "<title>11&#45;&gt;22</title>\r\n",
       "<path fill=\"none\" stroke=\"#0000ff\" d=\"M1302.67,-86.8C1307.23,-75.05 1313.37,-59.24 1318.57,-45.84\"/>\r\n",
       "<polygon fill=\"#0000ff\" stroke=\"#0000ff\" points=\"1321.97,-46.76 1322.32,-36.18 1315.44,-44.23 1321.97,-46.76\"/>\r\n",
       "<text text-anchor=\"middle\" x=\"1346.99\" y=\"-57.8\" font-family=\"Times New Roman,serif\" font-size=\"14.00\">no, missing</text>\r\n",
       "</g>\r\n",
       "<!-- 23 -->\r\n",
       "<g id=\"node22\" class=\"node\">\r\n",
       "<title>23</title>\r\n",
       "<ellipse fill=\"none\" stroke=\"black\" cx=\"1502.99\" cy=\"-18\" rx=\"77.99\" ry=\"18\"/>\r\n",
       "<text text-anchor=\"middle\" x=\"1502.99\" y=\"-14.3\" font-family=\"Times New Roman,serif\" font-size=\"14.00\">leaf=&#45;0.502639472</text>\r\n",
       "</g>\r\n",
       "<!-- 12&#45;&gt;23 -->\r\n",
       "<g id=\"edge21\" class=\"edge\">\r\n",
       "<title>12&#45;&gt;23</title>\r\n",
       "<path fill=\"none\" stroke=\"#ff0000\" d=\"M1528.52,-86.8C1524.09,-75.05 1518.14,-59.24 1513.1,-45.84\"/>\r\n",
       "<polygon fill=\"#ff0000\" stroke=\"#ff0000\" points=\"1516.26,-44.3 1509.46,-36.18 1509.71,-46.77 1516.26,-44.3\"/>\r\n",
       "<text text-anchor=\"middle\" x=\"1530.49\" y=\"-57.8\" font-family=\"Times New Roman,serif\" font-size=\"14.00\">yes</text>\r\n",
       "</g>\r\n",
       "<!-- 24 -->\r\n",
       "<g id=\"node23\" class=\"node\">\r\n",
       "<title>24</title>\r\n",
       "<ellipse fill=\"none\" stroke=\"black\" cx=\"1676.99\" cy=\"-18\" rx=\"77.99\" ry=\"18\"/>\r\n",
       "<text text-anchor=\"middle\" x=\"1676.99\" y=\"-14.3\" font-family=\"Times New Roman,serif\" font-size=\"14.00\">leaf=&#45;0.483288348</text>\r\n",
       "</g>\r\n",
       "<!-- 12&#45;&gt;24 -->\r\n",
       "<g id=\"edge22\" class=\"edge\">\r\n",
       "<title>12&#45;&gt;24</title>\r\n",
       "<path fill=\"none\" stroke=\"#0000ff\" d=\"M1562.71,-87.41C1585.28,-73.9 1617.29,-54.74 1641.69,-40.13\"/>\r\n",
       "<polygon fill=\"#0000ff\" stroke=\"#0000ff\" points=\"1643.53,-43.11 1650.31,-34.97 1639.93,-37.11 1643.53,-43.11\"/>\r\n",
       "<text text-anchor=\"middle\" x=\"1646.99\" y=\"-57.8\" font-family=\"Times New Roman,serif\" font-size=\"14.00\">no, missing</text>\r\n",
       "</g>\r\n",
       "<!-- 25 -->\r\n",
       "<g id=\"node26\" class=\"node\">\r\n",
       "<title>25</title>\r\n",
       "<ellipse fill=\"none\" stroke=\"black\" cx=\"1850.99\" cy=\"-18\" rx=\"77.99\" ry=\"18\"/>\r\n",
       "<text text-anchor=\"middle\" x=\"1850.99\" y=\"-14.3\" font-family=\"Times New Roman,serif\" font-size=\"14.00\">leaf=&#45;0.456711143</text>\r\n",
       "</g>\r\n",
       "<!-- 13&#45;&gt;25 -->\r\n",
       "<g id=\"edge25\" class=\"edge\">\r\n",
       "<title>13&#45;&gt;25</title>\r\n",
       "<path fill=\"none\" stroke=\"#ff0000\" d=\"M1900.45,-86.8C1891.48,-74.51 1879.28,-57.77 1869.23,-44.01\"/>\r\n",
       "<polygon fill=\"#ff0000\" stroke=\"#ff0000\" points=\"1872.03,-41.9 1863.31,-35.89 1866.37,-46.03 1872.03,-41.9\"/>\r\n",
       "<text text-anchor=\"middle\" x=\"1895.49\" y=\"-57.8\" font-family=\"Times New Roman,serif\" font-size=\"14.00\">yes</text>\r\n",
       "</g>\r\n",
       "<!-- 26 -->\r\n",
       "<g id=\"node27\" class=\"node\">\r\n",
       "<title>26</title>\r\n",
       "<ellipse fill=\"none\" stroke=\"black\" cx=\"2024.99\" cy=\"-18\" rx=\"77.99\" ry=\"18\"/>\r\n",
       "<text text-anchor=\"middle\" x=\"2024.99\" y=\"-14.3\" font-family=\"Times New Roman,serif\" font-size=\"14.00\">leaf=&#45;0.421432942</text>\r\n",
       "</g>\r\n",
       "<!-- 13&#45;&gt;26 -->\r\n",
       "<g id=\"edge26\" class=\"edge\">\r\n",
       "<title>13&#45;&gt;26</title>\r\n",
       "<path fill=\"none\" stroke=\"#0000ff\" d=\"M1934.85,-87.41C1952.04,-74.36 1976.18,-56.05 1995.14,-41.65\"/>\r\n",
       "<polygon fill=\"#0000ff\" stroke=\"#0000ff\" points=\"1997.34,-44.38 2003.19,-35.55 1993.11,-38.81 1997.34,-44.38\"/>\r\n",
       "<text text-anchor=\"middle\" x=\"2007.99\" y=\"-57.8\" font-family=\"Times New Roman,serif\" font-size=\"14.00\">no, missing</text>\r\n",
       "</g>\r\n",
       "<!-- 27 -->\r\n",
       "<g id=\"node28\" class=\"node\">\r\n",
       "<title>27</title>\r\n",
       "<ellipse fill=\"none\" stroke=\"black\" cx=\"2198.99\" cy=\"-18\" rx=\"77.99\" ry=\"18\"/>\r\n",
       "<text text-anchor=\"middle\" x=\"2198.99\" y=\"-14.3\" font-family=\"Times New Roman,serif\" font-size=\"14.00\">leaf=&#45;0.401586831</text>\r\n",
       "</g>\r\n",
       "<!-- 14&#45;&gt;27 -->\r\n",
       "<g id=\"edge27\" class=\"edge\">\r\n",
       "<title>14&#45;&gt;27</title>\r\n",
       "<path fill=\"none\" stroke=\"#ff0000\" d=\"M2198.99,-86.8C2198.99,-75.16 2198.99,-59.55 2198.99,-46.24\"/>\r\n",
       "<polygon fill=\"#ff0000\" stroke=\"#ff0000\" points=\"2202.49,-46.18 2198.99,-36.18 2195.49,-46.18 2202.49,-46.18\"/>\r\n",
       "<text text-anchor=\"middle\" x=\"2208.49\" y=\"-57.8\" font-family=\"Times New Roman,serif\" font-size=\"14.00\">yes</text>\r\n",
       "</g>\r\n",
       "<!-- 28 -->\r\n",
       "<g id=\"node29\" class=\"node\">\r\n",
       "<title>28</title>\r\n",
       "<ellipse fill=\"none\" stroke=\"black\" cx=\"2372.99\" cy=\"-18\" rx=\"77.99\" ry=\"18\"/>\r\n",
       "<text text-anchor=\"middle\" x=\"2372.99\" y=\"-14.3\" font-family=\"Times New Roman,serif\" font-size=\"14.00\">leaf=&#45;0.367275566</text>\r\n",
       "</g>\r\n",
       "<!-- 14&#45;&gt;28 -->\r\n",
       "<g id=\"edge28\" class=\"edge\">\r\n",
       "<title>14&#45;&gt;28</title>\r\n",
       "<path fill=\"none\" stroke=\"#0000ff\" d=\"M2232.13,-87.81C2260.55,-73.93 2301.6,-53.88 2332.06,-38.99\"/>\r\n",
       "<polygon fill=\"#0000ff\" stroke=\"#0000ff\" points=\"2333.7,-42.09 2341.15,-34.55 2330.63,-35.8 2333.7,-42.09\"/>\r\n",
       "<text text-anchor=\"middle\" x=\"2328.99\" y=\"-57.8\" font-family=\"Times New Roman,serif\" font-size=\"14.00\">no, missing</text>\r\n",
       "</g>\r\n",
       "</g>\r\n",
       "</svg>\r\n"
      ],
      "text/plain": [
       "<graphviz.files.Source at 0x18beb734940>"
      ]
     },
     "execution_count": 104,
     "metadata": {},
     "output_type": "execute_result"
    }
   ],
   "source": [
    "xgboost.to_graphviz(final_xgb_model.best_estimator_, num_trees = 0)"
   ]
  },
  {
   "cell_type": "markdown",
   "id": "2065128c",
   "metadata": {},
   "source": [
    "Note that the leaf values can be negative because they are logits. When all the tree values are added up and the logistic transformation is performed, the resulting probability will always be between 0 and 1 "
   ]
  },
  {
   "cell_type": "markdown",
   "id": "ea692beb",
   "metadata": {},
   "source": [
    "## 3. Partial dependence\n",
    "\n",
    "AGE and CMB_INDEX which seem to be the most important feature, so we will take a closer look at them. \n",
    "\n",
    "To see how the model is using them, we will use partial dependence plots. PDPs show the marginal contribution of a feature to the response variable across its range. This is calculated by setting the feature to a set value for every data point in the set, and observing the average response. \n",
    "\n",
    "Calculating PDPs across the entire dataset would take a very long time, so we will sample 100,000 data points. That should be more than enough to see the 1-dimensional trend"
   ]
  },
  {
   "cell_type": "code",
   "execution_count": 105,
   "id": "06a122ba",
   "metadata": {},
   "outputs": [],
   "source": [
    "from sklearn.inspection import plot_partial_dependence"
   ]
  },
  {
   "cell_type": "code",
   "execution_count": 106,
   "id": "a1024dae",
   "metadata": {},
   "outputs": [
    {
     "data": {
      "text/plain": [
       "<sklearn.inspection._plot.partial_dependence.PartialDependenceDisplay at 0x18c09d7ae20>"
      ]
     },
     "execution_count": 106,
     "metadata": {},
     "output_type": "execute_result"
    },
    {
     "data": {
      "image/png": "[encoded data removed]",
      "text/plain": [
       "<Figure size 432x288 with 2 Axes>"
      ]
     },
     "metadata": {},
     "output_type": "display_data"
    }
   ],
   "source": [
    "plot_partial_dependence(final_model, X.sample(100000), ['AGE'])"
   ]
  },
  {
   "cell_type": "code",
   "execution_count": 107,
   "id": "feda9e4d",
   "metadata": {},
   "outputs": [
    {
     "data": {
      "text/plain": [
       "<sklearn.inspection._plot.partial_dependence.PartialDependenceDisplay at 0x18b42b1bc70>"
      ]
     },
     "execution_count": 107,
     "metadata": {},
     "output_type": "execute_result"
    },
    {
     "data": {
      "image/png": "[encoded data removed]",
      "text/plain": [
       "<Figure size 432x288 with 2 Axes>"
      ]
     },
     "metadata": {},
     "output_type": "display_data"
    }
   ],
   "source": [
    "plot_partial_dependence(final_model, X.sample(100000), ['CMB_INDEX']) "
   ]
  },
  {
   "cell_type": "code",
   "execution_count": 108,
   "id": "ef6c32e5",
   "metadata": {},
   "outputs": [
    {
     "data": {
      "text/plain": [
       "<sklearn.inspection._plot.partial_dependence.PartialDependenceDisplay at 0x18bcbfb4bb0>"
      ]
     },
     "execution_count": 108,
     "metadata": {},
     "output_type": "execute_result"
    },
    {
     "data": {
      "image/png": "[encoded data removed]",
      "text/plain": [
       "<Figure size 432x288 with 2 Axes>"
      ]
     },
     "metadata": {},
     "output_type": "display_data"
    }
   ],
   "source": [
    "plot_partial_dependence(final_model, X.sample(1000), [('CMB_INDEX','AGE')])"
   ]
  },
  {
   "cell_type": "markdown",
   "id": "e3080fc9",
   "metadata": {},
   "source": [
    "Two observations are immediately apparent \n",
    "- Age = 0 appears to be a discontinuity,\n",
    "- Both charts are mostly monotonically increasing, but in a nonlinear fashion. A logistic regression would not be able to hander this behavior by default"
   ]
  },
  {
   "cell_type": "markdown",
   "id": "7304717a",
   "metadata": {},
   "source": [
    "## 4. Using the partial dependence plots for feature engineering"
   ]
  },
  {
   "cell_type": "markdown",
   "id": "e7a55c0c",
   "metadata": {},
   "source": [
    "Now we are going to use partial dependences to create better features, which can be fed into a logistic regression.\n",
    "\n",
    "Why not just use a scatterplot to inspect the relationship between morbidity and the model feautres? The issue is that scatterplots are hard to interpret when features are correlated to one another. For example, older patients tend to have more comorbidities, which can confound the relationship between age and morbidity. The XGBoost model theoretically is isolating the effect of each variable in a way that works well for prediction.\n",
    "\n",
    "We will fit splines to both partial dependence plots to generate a tractable estimation. Since AGE = 0 appears to be a discontinuity, we will remove it from the AGE spline and add it as a separate feature"
   ]
  },
  {
   "cell_type": "code",
   "execution_count": 179,
   "id": "a81a9cca",
   "metadata": {},
   "outputs": [
    {
     "name": "stderr",
     "output_type": "stream",
     "text": [
      "C:\\Users\\Zach Rosenof\\Anaconda3\\lib\\site-packages\\sklearn\\inspection\\_partial_dependence.py:505: FutureWarning:\n",
      "\n",
      "A Bunch will be returned in place of 'predictions' from version 1.1 (renaming of 0.26) with partial dependence results accessible via the 'average' key. In the meantime, pass kind='average' to get the future behaviour.\n",
      "\n"
     ]
    }
   ],
   "source": [
    "from scipy.interpolate import UnivariateSpline\n",
    "from sklearn.inspection import partial_dependence\n",
    "\n",
    "partial_dependence_age, ages = partial_dependence(final_xgb_model\n",
    "                                            , X_train[X_train['AGE'] > 0].sample(100000)\n",
    "                                            , ['AGE']\n",
    "                                            , kind = 'legacy') #future-proofing, since behavior will change in later sklearn \n",
    "\n",
    "def logit(x):\n",
    "    return np.log((x/(1-x)))\n",
    "\n",
    "#logistic regression predicts maps features to logit values, so we want partial dependence of the logits\n",
    "partial_dependence_age = logit(partial_dependence_age)\n",
    "\n",
    "age_spline = UnivariateSpline(ages, partial_dependence_age, s = 0.2)"
   ]
  },
  {
   "cell_type": "code",
   "execution_count": 180,
   "id": "7e5745a9",
   "metadata": {},
   "outputs": [],
   "source": [
    "partial_dependence_cmb, cmbs = partial_dependence(final_xgb_model\n",
    "                                            , X_train.sample(100000)\n",
    "                                            , ['CMB_INDEX']) \n",
    "\n",
    "partial_dependence_cmb = logit(partial_dependence_cmb)\n",
    "cmb_spline = UnivariateSpline(cmbs, partial_dependence_cmb, s = 0.2)\n"
   ]
  },
  {
   "cell_type": "code",
   "execution_count": 181,
   "id": "6386fc12",
   "metadata": {},
   "outputs": [],
   "source": [
    "def replace_with_spline(df):\n",
    "    new_df = df.assign(CMB_Beta = cmb_spline(df['CMB_INDEX'])\n",
    "                       ,Age_Beta = age_spline(df['AGE']))\n",
    "    \n",
    "    new_df.loc[:,'AGE_0'] = new_df['AGE'] == 0\n",
    "    \n",
    "    return new_df.drop(columns = ['CMB_INDEX','AGE'])\n",
    "\n",
    "X_train_beta = replace_with_spline(X_train)\n",
    "\n",
    "X_holdout_beta = replace_with_spline(X_holdout)"
   ]
  },
  {
   "cell_type": "code",
   "execution_count": 189,
   "id": "42f1908b",
   "metadata": {},
   "outputs": [
    {
     "data": {
      "image/png": "[encoded data removed]",
      "text/plain": [
       "<Figure size 432x288 with 1 Axes>"
      ]
     },
     "metadata": {},
     "output_type": "display_data"
    }
   ],
   "source": [
    "plt.plot(np.array(ages)[0], age_spline(ages)[0] )\n",
    "plt.xlabel(\"Age\")\n",
    "plt.ylabel(\"Logit contribution, spline\")\n",
    "plt.show()"
   ]
  },
  {
   "cell_type": "code",
   "execution_count": 190,
   "id": "86fe517c",
   "metadata": {},
   "outputs": [
    {
     "data": {
      "image/png": "[encoded data removed]",
      "text/plain": [
       "<Figure size 432x288 with 1 Axes>"
      ]
     },
     "metadata": {},
     "output_type": "display_data"
    }
   ],
   "source": [
    "plt.plot(np.array(cmbs)[0], cmb_spline(cmbs)[0] )\n",
    "plt.xlabel(\"Comorbidity Index\")\n",
    "plt.ylabel(\"Logit contribution, spline\")\n",
    "plt.show()"
   ]
  },
  {
   "cell_type": "markdown",
   "id": "eef018e9",
   "metadata": {},
   "source": [
    "We now have a new version of the dataset, with spline-ified versions of AGE and CMB_INDEX. The last step is to see how a logistic regression will do with these features, compared to a logistic regression with original features, and XGBoost"
   ]
  },
  {
   "cell_type": "markdown",
   "id": "d86da78e",
   "metadata": {},
   "source": [
    "# 5. Scoring performance"
   ]
  },
  {
   "cell_type": "code",
   "execution_count": null,
   "id": "2b0b7ac8",
   "metadata": {
    "scrolled": true
   },
   "outputs": [],
   "source": [
    "from sklearn.linear_model import LogisticRegression\n",
    "from sklearn.metrics import roc_auc_score\n",
    "\n",
    "lr_alpha = LogisticRegression().fit(X_train,y_train)\n",
    "lr_beta = LogisticRegression().fit(X_train_beta,y_train)\n",
    "\n",
    "lr_alpha_predictions = lr_alpha.predict_proba(X_holdout)\n",
    "lr_beta_predictions = lr_beta.predict_proba(X_holdout_beta)\n",
    "xgb_predictions = final_xgb_model.predict_proba(X_holdout)\n",
    "\n"
   ]
  },
  {
   "cell_type": "code",
   "execution_count": 185,
   "id": "fc8bb77d",
   "metadata": {},
   "outputs": [
    {
     "name": "stdout",
     "output_type": "stream",
     "text": [
      "Base logistic regression score: 82.62%\n",
      "XGB score: 83.47%\n",
      "Augmented logistic regression score: 82.84%\n"
     ]
    }
   ],
   "source": [
    "lr_alpha_score = roc_auc_score(y_holdout, [p[1] for p in lr_alpha_predictions])\n",
    "lr_beta_score = roc_auc_score(y_holdout, [p[1] for p in lr_beta_predictions])\n",
    "xgb_score = roc_auc_score(y_holdout, [p[1] for p in xgb_predictions])\n",
    "\n",
    "print('Base logistic regression score: ' + str(np.round(lr_alpha_score*100,2)) + '%')\n",
    "print('XGB score: ' + str(np.round(xgb_score*100,2)) + '%')\n",
    "print('Augmented logistic regression score: ' + str(np.round(lr_beta_score*100,2)) + '%')"
   ]
  },
  {
   "cell_type": "markdown",
   "id": "320a9464",
   "metadata": {},
   "source": [
    "The XGB model is still the best, but our new features helped the logistic regression. The gap between XGB and the logistic regression shrunk from 0.9 percentage points to 0.6 percentage points with the new features. \n",
    "\n",
    "In the context of healthcare, where every prediction is important, this level of improvement can meam a lot"
   ]
  },
  {
   "cell_type": "markdown",
   "id": "8f503f0c",
   "metadata": {},
   "source": [
    "## 6. Conclusion\n",
    "\n",
    "ML models can be useful for understanding data even when they cannot be deployed. Thus it may be worthwhile for practitioners to try ML models in such contexts, using them for feature engineering before leaving them on the shelf for production\n",
    "\n",
    "*This notebook is part of an ongoing collaboration w/ Safwan Jalal of Upstate Medical University. NIS data was obtained through the university*"
   ]
  }
 ],
 "metadata": {
  "kernelspec": {
   "display_name": "Python 3",
   "language": "python",
   "name": "python3"
  },
  "language_info": {
   "codemirror_mode": {
    "name": "ipython",
    "version": 3
   },
   "file_extension": ".py",
   "mimetype": "text/x-python",
   "name": "python",
   "nbconvert_exporter": "python",
   "pygments_lexer": "ipython3",
   "version": "3.8.8"
  }
 },
 "nbformat": 4,
 "nbformat_minor": 5
}
